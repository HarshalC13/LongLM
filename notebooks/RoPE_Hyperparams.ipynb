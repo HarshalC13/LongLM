{
 "cells": [
  {
   "cell_type": "code",
   "execution_count": 48,
   "metadata": {
    "tags": []
   },
   "outputs": [],
   "source": [
    "import time\n",
    "import json\n",
    "import datetime\n",
    "import pandas as pd\n",
    "import torch\n",
    "from transformers import AutoModelForCausalLM, AutoTokenizer, AutoConfig"
   ]
  },
  {
   "cell_type": "code",
   "execution_count": 2,
   "metadata": {
    "tags": []
   },
   "outputs": [],
   "source": [
    "def format_time(elapsed: float) -> str:\n",
    "    \"\"\"Takes a time in seconds and formats it to hh:mm:ss:ms.\n",
    "\n",
    "    Args:\n",
    "        elapsed (float): Time period elapsed in seconds.\n",
    "\n",
    "    Returns:\n",
    "        str: Elapsed period formatted as a string including milliseconds.\n",
    "    \"\"\"\n",
    "    elapsed_timedelta = datetime.timedelta(seconds=elapsed)\n",
    "    hrs, remain = divmod(elapsed_timedelta.total_seconds(), 3600)\n",
    "    mins, secs = divmod(remain, 60)\n",
    "    ms = int((secs - int(secs)) * 1000)\n",
    "    time = \"{:02}:{:02}:{:02}.{:03}\".format(int(hrs), int(mins), int(secs), ms)\n",
    "    return time"
   ]
  },
  {
   "cell_type": "code",
   "execution_count": 3,
   "metadata": {
    "tags": []
   },
   "outputs": [],
   "source": [
    "device = \"cuda\" # or \"cpu\"\n",
    "model_path = \"ibm-granite/granite-8b-code-instruct\""
   ]
  },
  {
   "cell_type": "code",
   "execution_count": 4,
   "metadata": {
    "tags": []
   },
   "outputs": [
    {
     "name": "stderr",
     "output_type": "stream",
     "text": [
      "/dccstor/dnet1/harshal/miniconda3/envs/ctx/lib/python3.10/site-packages/huggingface_hub/file_download.py:1132: FutureWarning: `resume_download` is deprecated and will be removed in version 1.0.0. Downloads always resume when possible. If you want to force a new download, use `force_download=True`.\n",
      "  warnings.warn(\n",
      "Loading checkpoint shards: 100%|█████████████████████████████████████████████████████████████████████████████████████████████████████████████████████████████████████████████████████████████████████████████████████████████████| 4/4 [00:08<00:00,  2.16s/it]\n"
     ]
    }
   ],
   "source": [
    "config = AutoConfig.from_pretrained(model_path)\n",
    "tokenizer = AutoTokenizer.from_pretrained(model_path)\n",
    "model = AutoModelForCausalLM.from_pretrained(model_path, device_map=device)"
   ]
  },
  {
   "cell_type": "markdown",
   "metadata": {
    "tags": []
   },
   "source": [
    "### Basic Example"
   ]
  },
  {
   "cell_type": "code",
   "execution_count": 5,
   "metadata": {
    "tags": []
   },
   "outputs": [
    {
     "data": {
      "text/plain": [
       "LlamaForCausalLM(\n",
       "  (model): LlamaModel(\n",
       "    (embed_tokens): Embedding(49152, 4096, padding_idx=0)\n",
       "    (layers): ModuleList(\n",
       "      (0-35): 36 x LlamaDecoderLayer(\n",
       "        (self_attn): LlamaSdpaAttention(\n",
       "          (q_proj): Linear(in_features=4096, out_features=4096, bias=True)\n",
       "          (k_proj): Linear(in_features=4096, out_features=1024, bias=True)\n",
       "          (v_proj): Linear(in_features=4096, out_features=1024, bias=True)\n",
       "          (o_proj): Linear(in_features=4096, out_features=4096, bias=True)\n",
       "          (rotary_emb): LlamaRotaryEmbedding()\n",
       "        )\n",
       "        (mlp): LlamaMLP(\n",
       "          (gate_proj): Linear(in_features=4096, out_features=14336, bias=True)\n",
       "          (up_proj): Linear(in_features=4096, out_features=14336, bias=True)\n",
       "          (down_proj): Linear(in_features=14336, out_features=4096, bias=True)\n",
       "          (act_fn): SiLU()\n",
       "        )\n",
       "        (input_layernorm): LlamaRMSNorm()\n",
       "        (post_attention_layernorm): LlamaRMSNorm()\n",
       "      )\n",
       "    )\n",
       "    (norm): LlamaRMSNorm()\n",
       "  )\n",
       "  (lm_head): Linear(in_features=4096, out_features=49152, bias=False)\n",
       ")"
      ]
     },
     "execution_count": 5,
     "metadata": {},
     "output_type": "execute_result"
    }
   ],
   "source": [
    "chat = [\n",
    "    { \"role\": \"user\", \"content\": \"Write a code to find the maximum value in a list of numbers.\" },\n",
    "]\n",
    "model.eval()"
   ]
  },
  {
   "cell_type": "code",
   "execution_count": 6,
   "metadata": {
    "tags": []
   },
   "outputs": [],
   "source": [
    "chat = tokenizer.apply_chat_template(chat, tokenize=False, add_generation_prompt=True)\n",
    "input_tokens = tokenizer(chat, return_tensors=\"pt\")\n",
    "for i in input_tokens:\n",
    "    input_tokens[i] = input_tokens[i].to(device)"
   ]
  },
  {
   "cell_type": "code",
   "execution_count": 7,
   "metadata": {
    "tags": []
   },
   "outputs": [
    {
     "name": "stdout",
     "output_type": "stream",
     "text": [
      "Generation tooK: 00:00:08.434\n"
     ]
    }
   ],
   "source": [
    "start = time.time()\n",
    "output = model.generate(**input_tokens, max_new_tokens=100)\n",
    "print(f\"Generation took: {format_time(time.time() - start)} (hh:mm:ss:ms)\")"
   ]
  },
  {
   "cell_type": "code",
   "execution_count": 8,
   "metadata": {
    "tags": []
   },
   "outputs": [
    {
     "name": "stdout",
     "output_type": "stream",
     "text": [
      "Question:\n",
      "Write a code to find the maximum value in a list of numbers.\n",
      "\n",
      "Answer:\n",
      "```python\n",
      "def find_max(numbers):\n",
      "    max_value = numbers[0]\n",
      "    for num in numbers:\n",
      "        if num > max_value:\n",
      "            max_value = num\n",
      "    return max_value\n",
      "```<|endoftext|>\n"
     ]
    }
   ],
   "source": [
    "output = tokenizer.batch_decode(output)\n",
    "for i in output:\n",
    "    print(i)"
   ]
  },
  {
   "cell_type": "markdown",
   "metadata": {},
   "source": [
    "### Passkey Example (Tests Recall from Ctx Window)"
   ]
  },
  {
   "cell_type": "code",
   "execution_count": 17,
   "metadata": {
    "tags": []
   },
   "outputs": [],
   "source": [
    "def get_passkey_prompts(file_name):\n",
    "    prompts = []\n",
    "    with open(file_name, 'r') as file:\n",
    "        for line in file:\n",
    "            example = json.loads(line)\n",
    "        \n",
    "            chat = [\n",
    "                {\"role\": \"system\", \"content\": example[\"input\"]},\n",
    "                {\"role\": \"user\", \"content\": \"What is the pass key?\"}\n",
    "            ]\n",
    "            \n",
    "\n",
    "            prompt = tokenizer.apply_chat_template(chat, tokenize=False, add_generation_prompt=True)\n",
    "            \n",
    "            prompts.append(prompt)\n",
    "    \n",
    "    return prompts"
   ]
  },
  {
   "cell_type": "code",
   "execution_count": 51,
   "metadata": {
    "tags": []
   },
   "outputs": [],
   "source": [
    "def check_model_response(decoded_response, expected_ans): \n",
    "    try: \n",
    "        model_answer = decoded_response.split(\"Answer:\\nThe pass key is\")[1].strip()\n",
    "        predicted = model_answer.split('.')[0]\n",
    "    except IndexError: \n",
    "        print(\"Error: Couldn't find model response or format is incorrect\")\n",
    "        # print(f\"Model Answer: {decoded_response}\")\n",
    "        return False\n",
    "    return int(predicted) == expected_ans"
   ]
  },
  {
   "cell_type": "code",
   "execution_count": 19,
   "metadata": {
    "tags": []
   },
   "outputs": [],
   "source": [
    "ps_json_path = \"passkey_examples.jsonl\"\n",
    "passkey_prompts = get_passkey_prompts(ps_json_path)"
   ]
  },
  {
   "cell_type": "markdown",
   "metadata": {
    "tags": []
   },
   "source": [
    "#### Short Prompt (fits in default ctx window, < 4K input tokens)"
   ]
  },
  {
   "cell_type": "code",
   "execution_count": 20,
   "metadata": {
    "tags": []
   },
   "outputs": [
    {
     "data": {
      "text/plain": [
       "torch.Size([1, 3769])"
      ]
     },
     "execution_count": 20,
     "metadata": {},
     "output_type": "execute_result"
    }
   ],
   "source": [
    "ps_prompt_ex = passkey_prompts[0]\n",
    "input_tokens = tokenizer(ps_prompt_ex, return_tensors=\"pt\")\n",
    "input_tokens['input_ids'].shape"
   ]
  },
  {
   "cell_type": "code",
   "execution_count": 24,
   "metadata": {
    "tags": []
   },
   "outputs": [],
   "source": [
    "for i in input_tokens:\n",
    "    input_tokens[i] = input_tokens[i].to(device)"
   ]
  },
  {
   "cell_type": "code",
   "execution_count": 25,
   "metadata": {
    "tags": []
   },
   "outputs": [
    {
     "name": "stdout",
     "output_type": "stream",
     "text": [
      "Generation took: 00:00:04.238 (hh:mm:ss:ms)\n"
     ]
    }
   ],
   "source": [
    "start = time.time()\n",
    "output = model.generate(**input_tokens, max_new_tokens=100)\n",
    "print(f\"Generation took: {format_time(time.time() - start)} (hh:mm:ss:ms)\")"
   ]
  },
  {
   "cell_type": "code",
   "execution_count": 26,
   "metadata": {
    "collapsed": true,
    "jupyter": {
     "outputs_hidden": true
    },
    "tags": []
   },
   "outputs": [
    {
     "name": "stdout",
     "output_type": "stream",
     "text": [
      "System:\n",
      "There is an important info hidden inside a lot of irrelevant text. Find it and memorize it. I will quiz you about the important information there.\n",
      "The grass is green. The sky is blue. The sun is yellow. Here we go. There and back again.\n",
      "The grass is green. The sky is blue. The sun is yellow. Here we go. There and back again.\n",
      "The grass is green. The sky is blue. The sun is yellow. Here we go. There and back again.\n",
      "The grass is green. The sky is blue. The sun is yellow. Here we go. There and back again.\n",
      "The grass is green. The sky is blue. The sun is yellow. Here we go. There and back again.\n",
      "The grass is green. The sky is blue. The sun is yellow. Here we go. There and back again.\n",
      "The grass is green. The sky is blue. The sun is yellow. Here we go. There and back again.\n",
      "The grass is green. The sky is blue. The sun is yellow. Here we go. There and back again.\n",
      "The grass is green. The sky is blue. The sun is yellow. Here we go. There and back again.\n",
      "The grass is green. The sky is blue. The sun is yellow. Here we go. There and back again.\n",
      "The grass is green. The sky is blue. The sun is yellow. Here we go. There and back again.\n",
      "The grass is green. The sky is blue. The sun is yellow. Here we go. There and back again.\n",
      "The grass is green. The sky is blue. The sun is yellow. Here we go. There and back again.\n",
      "The grass is green. The sky is blue. The sun is yellow. Here we go. There and back again.\n",
      "The grass is green. The sky is blue. The sun is yellow. Here we go. There and back again.\n",
      "The grass is green. The sky is blue. The sun is yellow. Here we go. There and back again.\n",
      "The grass is green. The sky is blue. The sun is yellow. Here we go. There and back again.\n",
      "The grass is green. The sky is blue. The sun is yellow. Here we go. There and back again.\n",
      "The grass is green. The sky is blue. The sun is yellow. Here we go. There and back again.\n",
      "The grass is green. The sky is blue. The sun is yellow. Here we go. There and back again.\n",
      "The grass is green. The sky is blue. The sun is yellow. Here we go. There and back again.\n",
      "The grass is green. The sky is blue. The sun is yellow. Here we go. There and back again.\n",
      "The grass is green. The sky is blue. The sun is yellow. Here we go. There and back again.\n",
      "The grass is green. The sky is blue. The sun is yellow. Here we go. There and back again.\n",
      "The grass is green. The sky is blue. The sun is yellow. Here we go. There and back again.\n",
      "The grass is green. The sky is blue. The sun is yellow. Here we go. There and back again.\n",
      "The grass is green. The sky is blue. The sun is yellow. Here we go. There and back again.\n",
      "The grass is green. The sky is blue. The sun is yellow. Here we go. There and back again.\n",
      "The grass is green. The sky is blue. The sun is yellow. Here we go. There and back again.\n",
      "The grass is green. The sky is blue. The sun is yellow. Here we go. There and back again.\n",
      "The grass is green. The sky is blue. The sun is yellow. Here we go. There and back again.\n",
      "The grass is green. The sky is blue. The sun is yellow. Here we go. There and back again.\n",
      "The grass is green. The sky is blue. The sun is yellow. Here we go. There and back again.\n",
      "The grass is green. The sky is blue. The sun is yellow. Here we go. There and back again.\n",
      "The grass is green. The sky is blue. The sun is yellow. Here we go. There and back again.\n",
      "The grass is green. The sky is blue. The sun is yellow. Here we go. There and back again.\n",
      "The grass is green. The sky is blue. The sun is yellow. Here we go. There and back again.\n",
      "The grass is green. The sky is blue. The sun is yellow. Here we go. There and back again.\n",
      "The grass is green. The sky is blue. The sun is yellow. Here we go. There and back again.\n",
      "The grass is green. The sky is blue. The sun is yellow. Here we go. There and back again.\n",
      "The grass is green. The sky is blue. The sun is yellow. Here we go. There and back again.\n",
      "The grass is green. The sky is blue. The sun is yellow. Here we go. There and back again.\n",
      "The grass is green. The sky is blue. The sun is yellow. Here we go. There and back again.\n",
      "The grass is green. The sky is blue. The sun is yellow. Here we go. There and back again.\n",
      "The grass is green. The sky is blue. The sun is yellow. Here we go. There and back again.\n",
      "The grass is green. The sky is blue. The sun is yellow. Here we go. There and back again.\n",
      "The grass is green. The sky is blue. The sun is yellow. Here we go. There and back again.\n",
      "The grass is green. The sky is blue. The sun is yellow. Here we go. There and back again.\n",
      "The grass is green. The sky is blue. The sun is yellow. Here we go. There and back again.\n",
      "The grass is green. The sky is blue. The sun is yellow. Here we go. There and back again.\n",
      "The grass is green. The sky is blue. The sun is yellow. Here we go. There and back again.\n",
      "The grass is green. The sky is blue. The sun is yellow. Here we go. There and back again.\n",
      "The grass is green. The sky is blue. The sun is yellow. Here we go. There and back again.\n",
      "The grass is green. The sky is blue. The sun is yellow. Here we go. There and back again.\n",
      "The grass is green. The sky is blue. The sun is yellow. Here we go. There and back again.\n",
      "The grass is green. The sky is blue. The sun is yellow. Here we go. There and back again.\n",
      "The grass is green. The sky is blue. The sun is yellow. Here we go. There and back again.\n",
      "The grass is green. The sky is blue. The sun is yellow. Here we go. There and back again.\n",
      "The grass is green. The sky is blue. The sun is yellow. Here we go. There and back again.\n",
      "The grass is green. The sky is blue. The sun is yellow. Here we go. There and back again.\n",
      "The grass is green. The sky is blue. The sun is yellow. Here we go. There and back again.\n",
      "The grass is green. The sky is blue. The sun is yellow. Here we go. There and back again.\n",
      "The grass is green. The sky is blue. The sun is yellow. Here we go. There and back again.\n",
      "The grass is green. The sky is blue. The sun is yellow. Here we go. There and back again.\n",
      "The grass is green. The sky is blue. The sun is yellow. Here we go. There and back again.\n",
      "The grass is green. The sky is blue. The sun is yellow. Here we go. There and back again.\n",
      "The grass is green. The sky is blue. The sun is yellow. Here we go. There and back again.\n",
      "The grass is green. The sky is blue. The sun is yellow. Here we go. There and back again.\n",
      "The grass is green. The sky is blue. The sun is yellow. Here we go. There and back again.\n",
      "The grass is green. The sky is blue. The sun is yellow. Here we go. There and back again.\n",
      "The grass is green. The sky is blue. The sun is yellow. Here we go. There and back again.\n",
      "The grass is green. The sky is blue. The sun is yellow. Here we go. There and back again.\n",
      "The grass is green. The sky is blue. The sun is yellow. Here we go. There and back again.\n",
      "The grass is green. The sky is blue. The sun is yellow. Here we go. There and back again.\n",
      "The grass is green. The sky is blue. The sun is yellow. Here we go. There and back again.\n",
      "The grass is green. The sky is blue. The sun is yellow. Here we go. There and back again.\n",
      "The grass is green. The sky is blue. The sun is yellow. Here we go. There and back again.\n",
      "The grass is green. The sky is blue. The sun is yellow. Here we go. There and back again.\n",
      "The grass is green. The sky is blue. The sun is yellow. Here we go. There and back again.\n",
      "The grass is green. The sky is blue. The sun is yellow. Here we go. There and back again.\n",
      "The grass is green. The sky is blue. The sun is yellow. Here we go. There and back again.\n",
      "The grass is green. The sky is blue. The sun is yellow. Here we go. There and back again.\n",
      "The grass is green. The sky is blue. The sun is yellow. Here we go. There and back again.\n",
      "The grass is green. The sky is blue. The sun is yellow. Here we go. There and back again.\n",
      "The grass is green. The sky is blue. The sun is yellow. Here we go. There and back again.\n",
      "The grass is green. The sky is blue. The sun is yellow. Here we go. There and back again.\n",
      "The grass is green. The sky is blue. The sun is yellow. Here we go. There and back again.\n",
      "The grass is green. The sky is blue. The sun is yellow. Here we go. There and back again.\n",
      "The grass is green. The sky is blue. The sun is yellow. Here we go. There and back again.\n",
      "The grass is green. The sky is blue. The sun is yellow. Here we go. There and back again.\n",
      "The pass key is 72498. Remember it. 72498 is the pass key.\n",
      "The grass is green. The sky is blue. The sun is yellow. Here we go. There and back again.\n",
      "The grass is green. The sky is blue. The sun is yellow. Here we go. There and back again.\n",
      "The grass is green. The sky is blue. The sun is yellow. Here we go. There and back again.\n",
      "The grass is green. The sky is blue. The sun is yellow. Here we go. There and back again.\n",
      "The grass is green. The sky is blue. The sun is yellow. Here we go. There and back again.\n",
      "The grass is green. The sky is blue. The sun is yellow. Here we go. There and back again.\n",
      "The grass is green. The sky is blue. The sun is yellow. Here we go. There and back again.\n",
      "The grass is green. The sky is blue. The sun is yellow. Here we go. There and back again.\n",
      "The grass is green. The sky is blue. The sun is yellow. Here we go. There and back again.\n",
      "The grass is green. The sky is blue. The sun is yellow. Here we go. There and back again.\n",
      "The grass is green. The sky is blue. The sun is yellow. Here we go. There and back again.\n",
      "The grass is green. The sky is blue. The sun is yellow. Here we go. There and back again.\n",
      "The grass is green. The sky is blue. The sun is yellow. Here we go. There and back again.\n",
      "The grass is green. The sky is blue. The sun is yellow. Here we go. There and back again.\n",
      "The grass is green. The sky is blue. The sun is yellow. Here we go. There and back again.\n",
      "The grass is green. The sky is blue. The sun is yellow. Here we go. There and back again.\n",
      "The grass is green. The sky is blue. The sun is yellow. Here we go. There and back again.\n",
      "The grass is green. The sky is blue. The sun is yellow. Here we go. There and back again.\n",
      "The grass is green. The sky is blue. The sun is yellow. Here we go. There and back again.\n",
      "The grass is green. The sky is blue. The sun is yellow. Here we go. There and back again.\n",
      "The grass is green. The sky is blue. The sun is yellow. Here we go. There and back again.\n",
      "The grass is green. The sky is blue. The sun is yellow. Here we go. There and back again.\n",
      "The grass is green. The sky is blue. The sun is yellow. Here we go. There and back again.\n",
      "The grass is green. The sky is blue. The sun is yellow. Here we go. There and back again.\n",
      "The grass is green. The sky is blue. The sun is yellow. Here we go. There and back again.\n",
      "The grass is green. The sky is blue. The sun is yellow. Here we go. There and back again.\n",
      "The grass is green. The sky is blue. The sun is yellow. Here we go. There and back again.\n",
      "The grass is green. The sky is blue. The sun is yellow. Here we go. There and back again.\n",
      "The grass is green. The sky is blue. The sun is yellow. Here we go. There and back again.\n",
      "The grass is green. The sky is blue. The sun is yellow. Here we go. There and back again.\n",
      "The grass is green. The sky is blue. The sun is yellow. Here we go. There and back again.\n",
      "The grass is green. The sky is blue. The sun is yellow. Here we go. There and back again.\n",
      "The grass is green. The sky is blue. The sun is yellow. Here we go. There and back again.\n",
      "The grass is green. The sky is blue. The sun is yellow. Here we go. There and back again.\n",
      "The grass is green. The sky is blue. The sun is yellow. Here we go. There and back again.\n",
      "The grass is green. The sky is blue. The sun is yellow. Here we go. There and back again.\n",
      "The grass is green. The sky is blue. The sun is yellow. Here we go. There and back again.\n",
      "The grass is green. The sky is blue. The sun is yellow. Here we go. There and back again.\n",
      "The grass is green. The sky is blue. The sun is yellow. Here we go. There and back again.\n",
      "The grass is green. The sky is blue. The sun is yellow. Here we go. There and back again.\n",
      "The grass is green. The sky is blue. The sun is yellow. Here we go. There and back again.\n",
      "The grass is green. The sky is blue. The sun is yellow. Here we go. There and back again.\n",
      "The grass is green. The sky is blue. The sun is yellow. Here we go. There and back again.\n",
      "The grass is green. The sky is blue. The sun is yellow. Here we go. There and back again.\n",
      "The grass is green. The sky is blue. The sun is yellow. Here we go. There and back again.\n",
      "The grass is green. The sky is blue. The sun is yellow. Here we go. There and back again.\n",
      "The grass is green. The sky is blue. The sun is yellow. Here we go. There and back again.\n",
      "The grass is green. The sky is blue. The sun is yellow. Here we go. There and back again.\n",
      "The grass is green. The sky is blue. The sun is yellow. Here we go. There and back again.\n",
      "The grass is green. The sky is blue. The sun is yellow. Here we go. There and back again.\n",
      "The grass is green. The sky is blue. The sun is yellow. Here we go. There and back again.\n",
      "The grass is green. The sky is blue. The sun is yellow. Here we go. There and back again.\n",
      "\n",
      "Question:\n",
      "What is the pass key?\n",
      "\n",
      "Answer:\n",
      "The pass key is 72498. Remember it.<|endoftext|>\n"
     ]
    }
   ],
   "source": [
    "output = tokenizer.batch_decode(output)\n",
    "for i in output:\n",
    "    print(i)"
   ]
  },
  {
   "cell_type": "code",
   "execution_count": 48,
   "metadata": {
    "tags": []
   },
   "outputs": [
    {
     "data": {
      "text/plain": [
       "True"
      ]
     },
     "execution_count": 48,
     "metadata": {},
     "output_type": "execute_result"
    }
   ],
   "source": [
    "check_model_response(\"\".join(output), 72498)"
   ]
  },
  {
   "cell_type": "markdown",
   "metadata": {
    "tags": []
   },
   "source": [
    "### Config change to dynamic RoPE scaling"
   ]
  },
  {
   "cell_type": "markdown",
   "metadata": {},
   "source": [
    "#### Long Prompt (longer than ctx window, 32K+ input tokens)"
   ]
  },
  {
   "cell_type": "code",
   "execution_count": 42,
   "metadata": {
    "tags": []
   },
   "outputs": [
    {
     "data": {
      "text/plain": [
       "torch.Size([1, 33289])"
      ]
     },
     "execution_count": 42,
     "metadata": {},
     "output_type": "execute_result"
    }
   ],
   "source": [
    "long_prompt = passkey_prompts[-1]\n",
    "input_tokens = tokenizer(long_prompt, return_tensors=\"pt\")\n",
    "input_tokens['input_ids'].shape"
   ]
  },
  {
   "cell_type": "code",
   "execution_count": 52,
   "metadata": {
    "tags": []
   },
   "outputs": [],
   "source": [
    "# values to test\n",
    "theta_values = [50000, 80000, 160000, 320000]\n",
    "scaling_factors = [1.0, 2.0, 4.0, 8.0]\n",
    "results_df = pd.DataFrame(columns=[\"Theta\", \"Scaling Factor\", \"Correct\", \"Response Time\", \"Model Output\"])"
   ]
  },
  {
   "cell_type": "code",
   "execution_count": 54,
   "metadata": {
    "tags": []
   },
   "outputs": [
    {
     "name": "stderr",
     "output_type": "stream",
     "text": [
      "Loading checkpoint shards: 100%|█████████████████████████████████████████████████████████████████████████████████████████████████████████████████████████████████████████████████████████████████████████████████████████████████| 4/4 [00:08<00:00,  2.22s/it]\n",
      "/tmp/ipykernel_2310154/1680201865.py:28: FutureWarning: The behavior of DataFrame concatenation with empty or all-NA entries is deprecated. In a future version, this will no longer exclude empty or all-NA columns when determining the result dtypes. To retain the old behavior, exclude the relevant entries before the concat operation.\n",
      "  results_df = pd.concat([results_df, new_row], ignore_index=True)\n"
     ]
    },
    {
     "name": "stdout",
     "output_type": "stream",
     "text": [
      "Error: Couldn't find model response or format is incorrect\n"
     ]
    },
    {
     "name": "stderr",
     "output_type": "stream",
     "text": [
      "Loading checkpoint shards: 100%|█████████████████████████████████████████████████████████████████████████████████████████████████████████████████████████████████████████████████████████████████████████████████████████████████| 4/4 [00:08<00:00,  2.24s/it]\n"
     ]
    },
    {
     "name": "stdout",
     "output_type": "stream",
     "text": [
      "Error: Couldn't find model response or format is incorrect\n"
     ]
    },
    {
     "name": "stderr",
     "output_type": "stream",
     "text": [
      "Loading checkpoint shards: 100%|█████████████████████████████████████████████████████████████████████████████████████████████████████████████████████████████████████████████████████████████████████████████████████████████████| 4/4 [00:08<00:00,  2.22s/it]\n"
     ]
    },
    {
     "name": "stdout",
     "output_type": "stream",
     "text": [
      "Error: Couldn't find model response or format is incorrect\n"
     ]
    },
    {
     "name": "stderr",
     "output_type": "stream",
     "text": [
      "Loading checkpoint shards: 100%|█████████████████████████████████████████████████████████████████████████████████████████████████████████████████████████████████████████████████████████████████████████████████████████████████| 4/4 [00:08<00:00,  2.23s/it]\n"
     ]
    },
    {
     "name": "stdout",
     "output_type": "stream",
     "text": [
      "Error: Couldn't find model response or format is incorrect\n"
     ]
    },
    {
     "name": "stderr",
     "output_type": "stream",
     "text": [
      "Loading checkpoint shards: 100%|█████████████████████████████████████████████████████████████████████████████████████████████████████████████████████████████████████████████████████████████████████████████████████████████████| 4/4 [00:08<00:00,  2.22s/it]\n"
     ]
    },
    {
     "name": "stdout",
     "output_type": "stream",
     "text": [
      "Error: Couldn't find model response or format is incorrect\n"
     ]
    },
    {
     "name": "stderr",
     "output_type": "stream",
     "text": [
      "Loading checkpoint shards: 100%|█████████████████████████████████████████████████████████████████████████████████████████████████████████████████████████████████████████████████████████████████████████████████████████████████| 4/4 [00:08<00:00,  2.22s/it]\n"
     ]
    },
    {
     "name": "stdout",
     "output_type": "stream",
     "text": [
      "Error: Couldn't find model response or format is incorrect\n"
     ]
    },
    {
     "name": "stderr",
     "output_type": "stream",
     "text": [
      "Loading checkpoint shards: 100%|█████████████████████████████████████████████████████████████████████████████████████████████████████████████████████████████████████████████████████████████████████████████████████████████████| 4/4 [00:08<00:00,  2.22s/it]\n"
     ]
    },
    {
     "name": "stdout",
     "output_type": "stream",
     "text": [
      "Error: Couldn't find model response or format is incorrect\n"
     ]
    },
    {
     "name": "stderr",
     "output_type": "stream",
     "text": [
      "Loading checkpoint shards: 100%|█████████████████████████████████████████████████████████████████████████████████████████████████████████████████████████████████████████████████████████████████████████████████████████████████| 4/4 [00:08<00:00,  2.22s/it]\n"
     ]
    },
    {
     "name": "stdout",
     "output_type": "stream",
     "text": [
      "Error: Couldn't find model response or format is incorrect\n"
     ]
    },
    {
     "name": "stderr",
     "output_type": "stream",
     "text": [
      "Loading checkpoint shards: 100%|█████████████████████████████████████████████████████████████████████████████████████████████████████████████████████████████████████████████████████████████████████████████████████████████████| 4/4 [00:08<00:00,  2.23s/it]\n"
     ]
    },
    {
     "name": "stdout",
     "output_type": "stream",
     "text": [
      "Error: Couldn't find model response or format is incorrect\n"
     ]
    },
    {
     "name": "stderr",
     "output_type": "stream",
     "text": [
      "Loading checkpoint shards: 100%|█████████████████████████████████████████████████████████████████████████████████████████████████████████████████████████████████████████████████████████████████████████████████████████████████| 4/4 [00:08<00:00,  2.21s/it]\n"
     ]
    },
    {
     "name": "stdout",
     "output_type": "stream",
     "text": [
      "Error: Couldn't find model response or format is incorrect\n"
     ]
    },
    {
     "name": "stderr",
     "output_type": "stream",
     "text": [
      "Loading checkpoint shards: 100%|█████████████████████████████████████████████████████████████████████████████████████████████████████████████████████████████████████████████████████████████████████████████████████████████████| 4/4 [00:08<00:00,  2.21s/it]\n"
     ]
    },
    {
     "name": "stdout",
     "output_type": "stream",
     "text": [
      "Error: Couldn't find model response or format is incorrect\n"
     ]
    },
    {
     "name": "stderr",
     "output_type": "stream",
     "text": [
      "Loading checkpoint shards: 100%|█████████████████████████████████████████████████████████████████████████████████████████████████████████████████████████████████████████████████████████████████████████████████████████████████| 4/4 [00:08<00:00,  2.21s/it]\n"
     ]
    },
    {
     "name": "stdout",
     "output_type": "stream",
     "text": [
      "Error: Couldn't find model response or format is incorrect\n"
     ]
    },
    {
     "name": "stderr",
     "output_type": "stream",
     "text": [
      "Loading checkpoint shards: 100%|█████████████████████████████████████████████████████████████████████████████████████████████████████████████████████████████████████████████████████████████████████████████████████████████████| 4/4 [00:08<00:00,  2.25s/it]\n"
     ]
    },
    {
     "name": "stdout",
     "output_type": "stream",
     "text": [
      "Error: Couldn't find model response or format is incorrect\n"
     ]
    },
    {
     "name": "stderr",
     "output_type": "stream",
     "text": [
      "Loading checkpoint shards: 100%|█████████████████████████████████████████████████████████████████████████████████████████████████████████████████████████████████████████████████████████████████████████████████████████████████| 4/4 [00:08<00:00,  2.23s/it]\n"
     ]
    },
    {
     "name": "stdout",
     "output_type": "stream",
     "text": [
      "Error: Couldn't find model response or format is incorrect\n"
     ]
    },
    {
     "name": "stderr",
     "output_type": "stream",
     "text": [
      "Loading checkpoint shards: 100%|█████████████████████████████████████████████████████████████████████████████████████████████████████████████████████████████████████████████████████████████████████████████████████████████████| 4/4 [00:08<00:00,  2.25s/it]\n"
     ]
    },
    {
     "name": "stdout",
     "output_type": "stream",
     "text": [
      "Error: Couldn't find model response or format is incorrect\n"
     ]
    },
    {
     "name": "stderr",
     "output_type": "stream",
     "text": [
      "Loading checkpoint shards: 100%|█████████████████████████████████████████████████████████████████████████████████████████████████████████████████████████████████████████████████████████████████████████████████████████████████| 4/4 [00:08<00:00,  2.24s/it]\n"
     ]
    },
    {
     "name": "stdout",
     "output_type": "stream",
     "text": [
      "Error: Couldn't find model response or format is incorrect\n"
     ]
    }
   ],
   "source": [
    "for theta in theta_values:\n",
    "    for scaling_factor in scaling_factors:\n",
    "        config = AutoConfig.from_pretrained(model_path)\n",
    "        setattr(config, 'rope_scaling', {'type': 'dynamic', 'factor': scaling_factor})\n",
    "        setattr(config, 'rope_theta', theta)\n",
    "        model = AutoModelForCausalLM.from_pretrained(model_path, config=config, device_map=device)\n",
    "        \n",
    "        input_tokens = tokenizer(long_prompt, return_tensors=\"pt\") # using longest prompt from passkey json (33K+ length)\n",
    "        for i in input_tokens:\n",
    "            input_tokens[i] = input_tokens[i].to(device)\n",
    "        start = time.time()\n",
    "        output = model.generate(**input_tokens, max_new_tokens=100)\n",
    "        duration = time.time() - start\n",
    "        response = tokenizer.batch_decode(output)\n",
    "\n",
    "        expected_ans = 1127250844  # target passkey for long prompt\n",
    "        is_correct = check_model_response(\"\".join(response), expected_ans)\n",
    "        new_row = pd.DataFrame({\n",
    "                \"Theta\": [theta],\n",
    "                \"Scaling Factor\": [scaling_factor],\n",
    "                \"Correct\": [is_correct],\n",
    "                \"Response Time\": [duration],\n",
    "                \"Model Output\": [response]\n",
    "            })\n",
    "        results_df = pd.concat([results_df, new_row], ignore_index=True)"
   ]
  },
  {
   "cell_type": "code",
   "execution_count": 55,
   "metadata": {
    "tags": []
   },
   "outputs": [
    {
     "data": {
      "text/html": [
       "<div>\n",
       "<style scoped>\n",
       "    .dataframe tbody tr th:only-of-type {\n",
       "        vertical-align: middle;\n",
       "    }\n",
       "\n",
       "    .dataframe tbody tr th {\n",
       "        vertical-align: top;\n",
       "    }\n",
       "\n",
       "    .dataframe thead th {\n",
       "        text-align: right;\n",
       "    }\n",
       "</style>\n",
       "<table border=\"1\" class=\"dataframe\">\n",
       "  <thead>\n",
       "    <tr style=\"text-align: right;\">\n",
       "      <th></th>\n",
       "      <th>Theta</th>\n",
       "      <th>Scaling Factor</th>\n",
       "      <th>Correct</th>\n",
       "      <th>Response Time</th>\n",
       "      <th>Model Output</th>\n",
       "    </tr>\n",
       "  </thead>\n",
       "  <tbody>\n",
       "    <tr>\n",
       "      <th>0</th>\n",
       "      <td>50000</td>\n",
       "      <td>1.0</td>\n",
       "      <td>False</td>\n",
       "      <td>42.560839</td>\n",
       "      <td>[System:\\nThere is an important info hidden in...</td>\n",
       "    </tr>\n",
       "    <tr>\n",
       "      <th>1</th>\n",
       "      <td>50000</td>\n",
       "      <td>2.0</td>\n",
       "      <td>False</td>\n",
       "      <td>67.333625</td>\n",
       "      <td>[System:\\nThere is an important info hidden in...</td>\n",
       "    </tr>\n",
       "    <tr>\n",
       "      <th>2</th>\n",
       "      <td>50000</td>\n",
       "      <td>4.0</td>\n",
       "      <td>False</td>\n",
       "      <td>67.353889</td>\n",
       "      <td>[System:\\nThere is an important info hidden in...</td>\n",
       "    </tr>\n",
       "    <tr>\n",
       "      <th>3</th>\n",
       "      <td>50000</td>\n",
       "      <td>8.0</td>\n",
       "      <td>False</td>\n",
       "      <td>67.348533</td>\n",
       "      <td>[System:\\nThere is an important info hidden in...</td>\n",
       "    </tr>\n",
       "    <tr>\n",
       "      <th>4</th>\n",
       "      <td>80000</td>\n",
       "      <td>1.0</td>\n",
       "      <td>False</td>\n",
       "      <td>67.367250</td>\n",
       "      <td>[System:\\nThere is an important info hidden in...</td>\n",
       "    </tr>\n",
       "    <tr>\n",
       "      <th>5</th>\n",
       "      <td>80000</td>\n",
       "      <td>2.0</td>\n",
       "      <td>False</td>\n",
       "      <td>67.325441</td>\n",
       "      <td>[System:\\nThere is an important info hidden in...</td>\n",
       "    </tr>\n",
       "    <tr>\n",
       "      <th>6</th>\n",
       "      <td>80000</td>\n",
       "      <td>4.0</td>\n",
       "      <td>False</td>\n",
       "      <td>67.347181</td>\n",
       "      <td>[System:\\nThere is an important info hidden in...</td>\n",
       "    </tr>\n",
       "    <tr>\n",
       "      <th>7</th>\n",
       "      <td>80000</td>\n",
       "      <td>8.0</td>\n",
       "      <td>False</td>\n",
       "      <td>67.366786</td>\n",
       "      <td>[System:\\nThere is an important info hidden in...</td>\n",
       "    </tr>\n",
       "    <tr>\n",
       "      <th>8</th>\n",
       "      <td>160000</td>\n",
       "      <td>1.0</td>\n",
       "      <td>False</td>\n",
       "      <td>67.360672</td>\n",
       "      <td>[System:\\nThere is an important info hidden in...</td>\n",
       "    </tr>\n",
       "    <tr>\n",
       "      <th>9</th>\n",
       "      <td>160000</td>\n",
       "      <td>2.0</td>\n",
       "      <td>False</td>\n",
       "      <td>67.332454</td>\n",
       "      <td>[System:\\nThere is an important info hidden in...</td>\n",
       "    </tr>\n",
       "    <tr>\n",
       "      <th>10</th>\n",
       "      <td>160000</td>\n",
       "      <td>4.0</td>\n",
       "      <td>False</td>\n",
       "      <td>67.345863</td>\n",
       "      <td>[System:\\nThere is an important info hidden in...</td>\n",
       "    </tr>\n",
       "    <tr>\n",
       "      <th>11</th>\n",
       "      <td>160000</td>\n",
       "      <td>8.0</td>\n",
       "      <td>False</td>\n",
       "      <td>67.363130</td>\n",
       "      <td>[System:\\nThere is an important info hidden in...</td>\n",
       "    </tr>\n",
       "    <tr>\n",
       "      <th>12</th>\n",
       "      <td>320000</td>\n",
       "      <td>1.0</td>\n",
       "      <td>False</td>\n",
       "      <td>67.340422</td>\n",
       "      <td>[System:\\nThere is an important info hidden in...</td>\n",
       "    </tr>\n",
       "    <tr>\n",
       "      <th>13</th>\n",
       "      <td>320000</td>\n",
       "      <td>2.0</td>\n",
       "      <td>False</td>\n",
       "      <td>67.350916</td>\n",
       "      <td>[System:\\nThere is an important info hidden in...</td>\n",
       "    </tr>\n",
       "    <tr>\n",
       "      <th>14</th>\n",
       "      <td>320000</td>\n",
       "      <td>4.0</td>\n",
       "      <td>False</td>\n",
       "      <td>67.318220</td>\n",
       "      <td>[System:\\nThere is an important info hidden in...</td>\n",
       "    </tr>\n",
       "    <tr>\n",
       "      <th>15</th>\n",
       "      <td>320000</td>\n",
       "      <td>8.0</td>\n",
       "      <td>False</td>\n",
       "      <td>67.337950</td>\n",
       "      <td>[System:\\nThere is an important info hidden in...</td>\n",
       "    </tr>\n",
       "  </tbody>\n",
       "</table>\n",
       "</div>"
      ],
      "text/plain": [
       "     Theta  Scaling Factor Correct  Response Time  \\\n",
       "0    50000             1.0   False      42.560839   \n",
       "1    50000             2.0   False      67.333625   \n",
       "2    50000             4.0   False      67.353889   \n",
       "3    50000             8.0   False      67.348533   \n",
       "4    80000             1.0   False      67.367250   \n",
       "5    80000             2.0   False      67.325441   \n",
       "6    80000             4.0   False      67.347181   \n",
       "7    80000             8.0   False      67.366786   \n",
       "8   160000             1.0   False      67.360672   \n",
       "9   160000             2.0   False      67.332454   \n",
       "10  160000             4.0   False      67.345863   \n",
       "11  160000             8.0   False      67.363130   \n",
       "12  320000             1.0   False      67.340422   \n",
       "13  320000             2.0   False      67.350916   \n",
       "14  320000             4.0   False      67.318220   \n",
       "15  320000             8.0   False      67.337950   \n",
       "\n",
       "                                         Model Output  \n",
       "0   [System:\\nThere is an important info hidden in...  \n",
       "1   [System:\\nThere is an important info hidden in...  \n",
       "2   [System:\\nThere is an important info hidden in...  \n",
       "3   [System:\\nThere is an important info hidden in...  \n",
       "4   [System:\\nThere is an important info hidden in...  \n",
       "5   [System:\\nThere is an important info hidden in...  \n",
       "6   [System:\\nThere is an important info hidden in...  \n",
       "7   [System:\\nThere is an important info hidden in...  \n",
       "8   [System:\\nThere is an important info hidden in...  \n",
       "9   [System:\\nThere is an important info hidden in...  \n",
       "10  [System:\\nThere is an important info hidden in...  \n",
       "11  [System:\\nThere is an important info hidden in...  \n",
       "12  [System:\\nThere is an important info hidden in...  \n",
       "13  [System:\\nThere is an important info hidden in...  \n",
       "14  [System:\\nThere is an important info hidden in...  \n",
       "15  [System:\\nThere is an important info hidden in...  "
      ]
     },
     "execution_count": 55,
     "metadata": {},
     "output_type": "execute_result"
    }
   ],
   "source": [
    "results_df"
   ]
  },
  {
   "cell_type": "code",
   "execution_count": 56,
   "metadata": {
    "tags": []
   },
   "outputs": [],
   "source": [
    "results_df.to_csv(\"RoPE_hparams_results.csv\", index=False)"
   ]
  }
 ],
 "metadata": {
  "kernelspec": {
   "display_name": "Python 3 (ipykernel)",
   "language": "python",
   "name": "python3"
  },
  "language_info": {
   "codemirror_mode": {
    "name": "ipython",
    "version": 3
   },
   "file_extension": ".py",
   "mimetype": "text/x-python",
   "name": "python",
   "nbconvert_exporter": "python",
   "pygments_lexer": "ipython3",
   "version": "3.10.13"
  }
 },
 "nbformat": 4,
 "nbformat_minor": 4
}
